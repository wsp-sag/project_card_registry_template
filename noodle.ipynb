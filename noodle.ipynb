{
 "cells": [
  {
   "cell_type": "code",
   "execution_count": 1,
   "source": [
    "import os\n",
    "import yaml\n",
    "import pytest\n",
    "import pandas as pd\n",
    "\n",
    "from network_wrangler import ProjectCard\n",
    "\n",
    "from update_registry import update_registry\n",
    "from methods_io import read_project_cards\n",
    "from methods_add_cards import add_cards_to_registry\n",
    "from methods_add_cards import _make_available"
   ],
   "outputs": [],
   "metadata": {}
  },
  {
   "cell_type": "markdown",
   "source": [
    "## defaults"
   ],
   "metadata": {}
  },
  {
   "cell_type": "code",
   "execution_count": 2,
   "source": [
    "CARD_DIR = os.path.join(\".\", \"reference_projects\")\n",
    "REGISTRY_FILE = \"registry.csv\"\n",
    "CONFIG_FILE = \"registry_config.yml\""
   ],
   "outputs": [],
   "metadata": {}
  },
  {
   "cell_type": "code",
   "execution_count": 4,
   "source": [
    "input_reg_df = pd.read_csv(REGISTRY_FILE)\n",
    "input_reg_df"
   ],
   "outputs": [
    {
     "output_type": "execute_result",
     "data": {
      "text/html": [
       "<div>\n",
       "<style scoped>\n",
       "    .dataframe tbody tr th:only-of-type {\n",
       "        vertical-align: middle;\n",
       "    }\n",
       "\n",
       "    .dataframe tbody tr th {\n",
       "        vertical-align: top;\n",
       "    }\n",
       "\n",
       "    .dataframe thead th {\n",
       "        text-align: right;\n",
       "    }\n",
       "</style>\n",
       "<table border=\"1\" class=\"dataframe\">\n",
       "  <thead>\n",
       "    <tr style=\"text-align: right;\">\n",
       "      <th></th>\n",
       "      <th>type</th>\n",
       "      <th>id</th>\n",
       "      <th>project_added</th>\n",
       "    </tr>\n",
       "  </thead>\n",
       "  <tbody>\n",
       "  </tbody>\n",
       "</table>\n",
       "</div>"
      ],
      "text/plain": [
       "Empty DataFrame\n",
       "Columns: [type, id, project_added]\n",
       "Index: []"
      ]
     },
     "metadata": {},
     "execution_count": 4
    }
   ],
   "metadata": {}
  },
  {
   "cell_type": "markdown",
   "source": [
    "## test methods"
   ],
   "metadata": {}
  },
  {
   "cell_type": "code",
   "execution_count": 5,
   "source": [
    "card_file_list = read_project_cards(CARD_DIR)\n",
    "card_file_list"
   ],
   "outputs": [
    {
     "output_type": "execute_result",
     "data": {
      "text/plain": [
       "[(<network_wrangler.projectcard.ProjectCard at 0x7f846550aed0>,\n",
       "  './reference_projects/project_C.yml'),\n",
       " (<network_wrangler.projectcard.ProjectCard at 0x7f84656db610>,\n",
       "  './reference_projects/project_B.yml'),\n",
       " (<network_wrangler.projectcard.ProjectCard at 0x7f8465607710>,\n",
       "  './reference_projects/project_A.yml')]"
      ]
     },
     "metadata": {},
     "execution_count": 5
    }
   ],
   "metadata": {}
  },
  {
   "cell_type": "code",
   "execution_count": 6,
   "source": [
    "update_registry(\n",
    "        CONFIG_FILE, REGISTRY_FILE, \"delete_me.csv\", CARD_DIR, False,\n",
    "    )"
   ],
   "outputs": [],
   "metadata": {}
  },
  {
   "cell_type": "markdown",
   "source": [
    "## test 01"
   ],
   "metadata": {}
  },
  {
   "cell_type": "code",
   "execution_count": null,
   "source": [
    "input_file = \"test_input_registry.csv\"\n",
    "output_file = \"test_update_registry.csv\"\n",
    "\n",
    "data = []\n",
    "input_df = pd.DataFrame(data, columns=[\"type\", \"id\", \"project_added\"])\n",
    "input_df.to_csv(input_file, index=False)\n",
    "\n",
    "update_registry(\n",
    "        config_file=\"registry_config.yml\",\n",
    "        input_reg_file=input_file,\n",
    "        output_reg_file=output_file,\n",
    "        card_dir=os.path.join(\".\", \"tests\", \"projects\", \"project_AB\"),\n",
    "        write_card_updates=False,\n",
    ")\n",
    "\n",
    "data = [\n",
    "        [\"node\", 1001, \"Project B\"],\n",
    "        [\"node\", 1002, \"Project B\"],\n",
    "        [\"node\", 1003, \"Project A\"],\n",
    "        [\"node\", 1004, \"Project A\"],\n",
    "        [\"link\", 501, \"Project B\"],\n",
    "        [\"link\", 502, \"Project A\"],\n",
    "]\n",
    "    \n",
    "target_df = pd.DataFrame(data, columns=[\"type\", \"id\", \"project_added\"])\n",
    "target_df = target_df.sort_values(by=[\"type\", \"id\"]).reset_index(drop=True)\n",
    "\n",
    "outcome_df = pd.read_csv(output_file)\n",
    "outcome_df = outcome_df.sort_values(by=[\"type\", \"id\"]).reset_index(drop=True)\n",
    "\n",
    "# os.remove(input_file)\n",
    "# os.remove(output_file)"
   ],
   "outputs": [],
   "metadata": {}
  },
  {
   "cell_type": "code",
   "execution_count": null,
   "source": [
    "target_df"
   ],
   "outputs": [],
   "metadata": {}
  },
  {
   "cell_type": "code",
   "execution_count": null,
   "source": [
    "outcome_df"
   ],
   "outputs": [],
   "metadata": {}
  },
  {
   "cell_type": "code",
   "execution_count": null,
   "source": [
    "target_df.equals(outcome_df)"
   ],
   "outputs": [],
   "metadata": {}
  },
  {
   "cell_type": "markdown",
   "source": [
    "## test 02"
   ],
   "metadata": {}
  },
  {
   "cell_type": "code",
   "execution_count": null,
   "source": [
    "output_file = \"test_update_registry.csv\"\n",
    "temp_file = \"temp_registry.csv\"\n",
    "data = [\n",
    "        [\"node\", 1001, \"Project Z\"],\n",
    "        [\"node\", 1002, \"Project Z\"],\n",
    "        [\"link\", 501, \"Project Z\"],\n",
    "    ]\n",
    "temp_df = pd.DataFrame(data, columns=[\"type\", \"id\", \"project_added\"])\n",
    "temp_df.to_csv(temp_file, index=False)\n",
    "\n",
    "update_registry(\n",
    "        config_file=\"registry_config.yml\",\n",
    "        input_reg_file=temp_file,\n",
    "        output_reg_file=output_file,\n",
    "        card_dir=os.path.join(\".\", \"tests\", \"projects\", \"project_AB\"),\n",
    "        write_card_updates=False,\n",
    "    )\n",
    "\n",
    "data = [\n",
    "        [\"node\", 1001, \"Project Z\"],\n",
    "        [\"node\", 1002, \"Project Z\"],\n",
    "        [\"link\", 501, \"Project Z\"],\n",
    "        [\"node\", 1003, \"Project B\"],\n",
    "        [\"node\", 1004, \"Project B\"],\n",
    "        [\"node\", 1005, \"Project A\"],\n",
    "        [\"node\", 1006, \"Project A\"],\n",
    "        [\"link\", 502, \"Project B\"],\n",
    "        [\"link\", 503, \"Project A\"],\n",
    "    ]\n",
    "target_df = pd.DataFrame(data, columns=[\"type\", \"id\", \"project_added\"])\n",
    "target_df = target_df.sort_values(by=[\"type\", \"id\"]).reset_index(drop=True)\n",
    "\n",
    "outcome_df = pd.read_csv(output_file)\n",
    "outcome_df = outcome_df.sort_values(by=[\"type\", \"id\"]).reset_index(drop=True)"
   ],
   "outputs": [],
   "metadata": {}
  },
  {
   "cell_type": "code",
   "execution_count": null,
   "source": [
    "target_df"
   ],
   "outputs": [],
   "metadata": {}
  },
  {
   "cell_type": "code",
   "execution_count": null,
   "source": [
    "outcome_df"
   ],
   "outputs": [],
   "metadata": {}
  },
  {
   "cell_type": "code",
   "execution_count": null,
   "source": [
    "target_df.equals(outcome_df)"
   ],
   "outputs": [],
   "metadata": {}
  },
  {
   "cell_type": "markdown",
   "source": [
    "## test 03\n",
    "make sure procedures are not recursive. if project name is in the repository, take no action."
   ],
   "metadata": {}
  },
  {
   "cell_type": "code",
   "execution_count": null,
   "source": [
    "input_file = \"test_input_registry.csv\"\n",
    "output_file = \"test_update_registry.csv\"\n",
    "\n",
    "data = [\n",
    "        [\"node\", 1001, \"Project B\"],\n",
    "        [\"node\", 1002, \"Project B\"],\n",
    "        [\"node\", 1003, \"Project A\"],\n",
    "        [\"node\", 1004, \"Project A\"],\n",
    "        [\"link\", 501, \"Project B\"],\n",
    "        [\"link\", 502, \"Project A\"],\n",
    "    ]\n",
    "input_df = pd.DataFrame(data, columns=[\"type\", \"id\", \"project_added\"])\n",
    "input_df.to_csv(input_file)\n",
    "\n",
    "update_registry(\n",
    "        config_file=\"registry_config.yml\",\n",
    "        input_reg_file=input_file,\n",
    "        output_reg_file=output_file,\n",
    "        card_dir=os.path.join(\".\", \"tests\", \"projects\", \"project_AB\"),\n",
    "        write_card_updates=False,\n",
    ")\n",
    "\n",
    "data = [\n",
    "        [\"node\", 1001, \"Project B\"],\n",
    "        [\"node\", 1002, \"Project B\"],\n",
    "        [\"node\", 1003, \"Project A\"],\n",
    "        [\"node\", 1004, \"Project A\"],\n",
    "        [\"link\", 501, \"Project B\"],\n",
    "        [\"link\", 502, \"Project A\"],\n",
    "]\n",
    "    \n",
    "target_i_df = pd.DataFrame(data, columns=[\"type\", \"id\", \"project_added\"])\n",
    "target_i_df = target_i_df.sort_values(by=[\"type\", \"id\"]).reset_index(drop=True)\n",
    "\n",
    "data = [\n",
    "        [\"node\", 1001, \"Project A\"],\n",
    "        [\"node\", 1002, \"Project A\"],\n",
    "        [\"node\", 1003, \"Project B\"],\n",
    "        [\"node\", 1004, \"Project B\"],\n",
    "        [\"link\", 501, \"Project A\"],\n",
    "        [\"link\", 502, \"Project B\"],\n",
    "]\n",
    "    \n",
    "target_ii_df = pd.DataFrame(data, columns=[\"type\", \"id\", \"project_added\"])\n",
    "target_ii_df = target_ii_df.sort_values(by=[\"type\", \"id\"]).reset_index(drop=True)\n",
    "\n",
    "outcome_df = pd.read_csv(output_file)\n",
    "outcome_df = outcome_df[[\"type\", \"id\", \"project_added\"]].sort_values(by=[\"type\", \"id\"]).reset_index(drop=True)\n",
    "\n",
    "os.remove(input_file)\n",
    "os.remove(output_file)\n"
   ],
   "outputs": [],
   "metadata": {}
  },
  {
   "cell_type": "code",
   "execution_count": null,
   "source": [
    "target_i_df.equals(outcome_df)"
   ],
   "outputs": [],
   "metadata": {}
  },
  {
   "cell_type": "code",
   "execution_count": null,
   "source": [
    "target_ii_df.equals(outcome_df)"
   ],
   "outputs": [],
   "metadata": {}
  },
  {
   "cell_type": "code",
   "execution_count": null,
   "source": [
    "df = outcome_df.sort_values(by=[\"type\", \"id\"])\n",
    "df"
   ],
   "outputs": [],
   "metadata": {}
  },
  {
   "cell_type": "code",
   "execution_count": null,
   "source": [
    "outcome_df"
   ],
   "outputs": [],
   "metadata": {}
  },
  {
   "cell_type": "code",
   "execution_count": null,
   "source": [
    "target_i_df"
   ],
   "outputs": [],
   "metadata": {}
  },
  {
   "cell_type": "code",
   "execution_count": null,
   "source": [
    "target_ii_df"
   ],
   "outputs": [],
   "metadata": {}
  }
 ],
 "metadata": {
  "kernelspec": {
   "name": "python3",
   "display_name": "Python 3.7.10 64-bit ('card_repo': conda)"
  },
  "language_info": {
   "codemirror_mode": {
    "name": "ipython",
    "version": 3
   },
   "file_extension": ".py",
   "mimetype": "text/x-python",
   "name": "python",
   "nbconvert_exporter": "python",
   "pygments_lexer": "ipython3",
   "version": "3.7.10"
  },
  "interpreter": {
   "hash": "3adbe519986811a6bedc65ae708f3959e35c1146710300d1ea579f67caa1a685"
  }
 },
 "nbformat": 4,
 "nbformat_minor": 4
}