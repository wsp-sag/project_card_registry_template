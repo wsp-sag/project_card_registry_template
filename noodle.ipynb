{
 "cells": [
  {
   "cell_type": "code",
   "execution_count": 1,
   "metadata": {},
   "outputs": [],
   "source": [
    "import os\n",
    "import yaml\n",
    "from geopandas import GeoDataFrame\n",
    "import pytest\n",
    "from network_wrangler import ProjectCard\n",
    "import numpy as np\n",
    "import pandas as pd"
   ]
  },
  {
   "cell_type": "markdown",
   "metadata": {},
   "source": [
    "## remote i/o"
   ]
  },
  {
   "cell_type": "code",
   "execution_count": 2,
   "metadata": {},
   "outputs": [],
   "source": [
    "input_dir = \".\"\n",
    "card_dir = os.path.join(input_dir, 'reference_projects')\n",
    "\n",
    "filename_registry = os.path.join(input_dir, 'registry.csv')\n",
    "filename_output_registry = os.path.join(input_dir, 'test_registry_update.csv')\n",
    "filename_config = os.path.join(input_dir, 'registry_config.yml')"
   ]
  },
  {
   "cell_type": "markdown",
   "metadata": {},
   "source": [
    "## data reads"
   ]
  },
  {
   "cell_type": "code",
   "execution_count": 3,
   "metadata": {},
   "outputs": [
    {
     "data": {
      "text/plain": [
       "['./reference_projects/project_B.yml', './reference_projects/project_A.yml']"
      ]
     },
     "execution_count": 3,
     "metadata": {},
     "output_type": "execute_result"
    }
   ],
   "source": [
    "card_filenames = []\n",
    "for (dirpath, dirnames, filenames) in os.walk(card_dir):\n",
    "    for filename in filenames:\n",
    "        name, extension = os.path.splitext(filename)\n",
    "        if (extension in ['.yml', '.yaml']):\n",
    "            card_filenames.append(os.path.join(card_dir, filename))\n",
    "    break\n",
    "\n",
    "card_filenames"
   ]
  },
  {
   "cell_type": "code",
   "execution_count": 4,
   "metadata": {},
   "outputs": [
    {
     "data": {
      "text/plain": [
       "{'start_node_number': 1000, 'start_link_number': 500}"
      ]
     },
     "execution_count": 4,
     "metadata": {},
     "output_type": "execute_result"
    }
   ],
   "source": [
    "registry_df = pd.read_csv(filename_registry)\n",
    "with open(filename_config, \"r\") as config_file:\n",
    "    config_dict = yaml.safe_load(config_file)\n",
    "\n",
    "config_dict"
   ]
  },
  {
   "cell_type": "markdown",
   "metadata": {},
   "source": [
    "## update the registry"
   ]
  },
  {
   "cell_type": "code",
   "execution_count": 5,
   "metadata": {},
   "outputs": [],
   "source": [
    "node_df = registry_df[registry_df['node_or_link'] == 'node']\n",
    "link_df = registry_df[registry_df['node_or_link'] == 'link']"
   ]
  },
  {
   "cell_type": "code",
   "execution_count": 6,
   "metadata": {},
   "outputs": [
    {
     "name": "stdout",
     "output_type": "stream",
     "text": [
      "2021-03-26 19:19:19, INFO: Wrote project card to: ./reference_projects/project_A_updated.yml\n"
     ]
    }
   ],
   "source": [
    "card_index = 0\n",
    "for card_filename in card_filenames:\n",
    "    write_updated_card = False\n",
    "    card = ProjectCard.read(card_filename, validate = False)\n",
    "    card_dict = card.__dict__\n",
    "\n",
    "    if (card_dict['category'] == 'New Roadway'):\n",
    "    \n",
    "        node_index = 0\n",
    "        for node in card_dict['nodes']:\n",
    "            new_node = node['model_node_id']\n",
    "        \n",
    "            if (new_node <= config_dict['start_node_number']):\n",
    "                msg = \"New node number ({}) in project '{}' is less than the starting node number in config file of {}\".format(\n",
    "                        new_node, \n",
    "                        card_dict['project'], \n",
    "                        config_dict['start_node_number'],\n",
    "                    )\n",
    "                raise ValueError(msg)\n",
    "            \n",
    "            if (new_node not in node_df['number'].values):\n",
    "                df = pd.DataFrame( \n",
    "                    {'node_or_link': 'node',\n",
    "                     'number': [new_node], \n",
    "                     'project': [card_dict['project']],\n",
    "                    } \n",
    "                ) \n",
    "                node_df = node_df.append(df)\n",
    "            else:\n",
    "                number = 1 + node_df['number'].max()\n",
    "                card_dict['nodes'][node_index]['model_node_id'] = number\n",
    "                for i in range(0, len(card_dict['links'])):\n",
    "                    if (card_dict['links'][i]['A'] == new_node):\n",
    "                        card_dict['links'][i]['A'] = number\n",
    "                    if (card_dict['links'][i]['B'] == new_node):\n",
    "                        card_dict['links'][i]['B'] = number\n",
    "                df = pd.DataFrame( \n",
    "                    {'node_or_link': 'node',\n",
    "                     'number': [number], \n",
    "                     'project': [card_dict['project']] } ) \n",
    "                node_df = node_df.append(df)\n",
    "                write_updated_card = True\n",
    "                \n",
    "            node_index = node_index + 1\n",
    "            \n",
    "        link_index = 0\n",
    "        for link in card_dict['links']:\n",
    "            new_link = link['model_link_id']\n",
    "        \n",
    "            if (new_link <= config_dict['start_link_number']):\n",
    "                msg = \"New link id ({}) in project '{}' is less than the starting link number in config file of {}\".format(\n",
    "                        new_link, \n",
    "                        card_dict['project'], \n",
    "                        config_dict['start_link_number'],\n",
    "                    )\n",
    "                raise ValueError(msg)\n",
    "            \n",
    "            if (new_link not in link_df['number'].values):\n",
    "                df = pd.DataFrame(\n",
    "                    {'node_or_link': 'link',\n",
    "                     'number': [new_link], \n",
    "                     'project':[card_dict['project']]\n",
    "                    }\n",
    "                ) \n",
    "                link_df = link_df.append(df)\n",
    "            else:\n",
    "                number = 1 + link_df['number'].max()\n",
    "                card_dict['links'][link_index]['model_link_id'] = number\n",
    "                for i in range(0, len(card_dict['links'])):\n",
    "                    if (card_dict['links'][i]['model_link_id'] == new_link):\n",
    "                        card_dict['links'][i]['model_link_id'] = number\n",
    "                df = pd.DataFrame(\n",
    "                    {'node_or_link': 'link',\n",
    "                     'number': [number],\n",
    "                     'project': [card_dict['project']]\n",
    "                    }\n",
    "                ) \n",
    "                link_df = link_df.append(df)\n",
    "                write_updated_card = True\n",
    "                \n",
    "            link_index = link_index + 1\n",
    "\n",
    "    if (write_updated_card):\n",
    "        card.__dict__.update(card_dict)\n",
    "        name, extension = os.path.splitext(card_filename)\n",
    "        card.write(filename = (name + '_updated' + extension))"
   ]
  },
  {
   "cell_type": "code",
   "execution_count": 7,
   "metadata": {},
   "outputs": [],
   "source": [
    "out_df = node_df.append(link_df)"
   ]
  },
  {
   "cell_type": "code",
   "execution_count": 8,
   "metadata": {},
   "outputs": [
    {
     "data": {
      "text/html": [
       "<div>\n",
       "<style scoped>\n",
       "    .dataframe tbody tr th:only-of-type {\n",
       "        vertical-align: middle;\n",
       "    }\n",
       "\n",
       "    .dataframe tbody tr th {\n",
       "        vertical-align: top;\n",
       "    }\n",
       "\n",
       "    .dataframe thead th {\n",
       "        text-align: right;\n",
       "    }\n",
       "</style>\n",
       "<table border=\"1\" class=\"dataframe\">\n",
       "  <thead>\n",
       "    <tr style=\"text-align: right;\">\n",
       "      <th></th>\n",
       "      <th>node_or_link</th>\n",
       "      <th>number</th>\n",
       "      <th>project</th>\n",
       "    </tr>\n",
       "  </thead>\n",
       "  <tbody>\n",
       "    <tr>\n",
       "      <th>0</th>\n",
       "      <td>node</td>\n",
       "      <td>1001</td>\n",
       "      <td>Project B</td>\n",
       "    </tr>\n",
       "    <tr>\n",
       "      <th>0</th>\n",
       "      <td>node</td>\n",
       "      <td>1002</td>\n",
       "      <td>Project B</td>\n",
       "    </tr>\n",
       "    <tr>\n",
       "      <th>0</th>\n",
       "      <td>node</td>\n",
       "      <td>1003</td>\n",
       "      <td>Project A</td>\n",
       "    </tr>\n",
       "    <tr>\n",
       "      <th>0</th>\n",
       "      <td>node</td>\n",
       "      <td>1004</td>\n",
       "      <td>Project A</td>\n",
       "    </tr>\n",
       "    <tr>\n",
       "      <th>0</th>\n",
       "      <td>link</td>\n",
       "      <td>501</td>\n",
       "      <td>Project B</td>\n",
       "    </tr>\n",
       "    <tr>\n",
       "      <th>0</th>\n",
       "      <td>link</td>\n",
       "      <td>502</td>\n",
       "      <td>Project A</td>\n",
       "    </tr>\n",
       "  </tbody>\n",
       "</table>\n",
       "</div>"
      ],
      "text/plain": [
       "  node_or_link number    project\n",
       "0         node   1001  Project B\n",
       "0         node   1002  Project B\n",
       "0         node   1003  Project A\n",
       "0         node   1004  Project A\n",
       "0         link    501  Project B\n",
       "0         link    502  Project A"
      ]
     },
     "execution_count": 8,
     "metadata": {},
     "output_type": "execute_result"
    }
   ],
   "source": [
    "out_df"
   ]
  },
  {
   "cell_type": "markdown",
   "metadata": {},
   "source": [
    "## write to disk"
   ]
  },
  {
   "cell_type": "code",
   "execution_count": 10,
   "metadata": {},
   "outputs": [],
   "source": [
    "out_df.to_csv(filename_output_registry)"
   ]
  },
  {
   "cell_type": "code",
   "execution_count": null,
   "metadata": {},
   "outputs": [],
   "source": []
  }
 ],
 "metadata": {
  "kernelspec": {
   "display_name": "lasso_x",
   "language": "python",
   "name": "lasso_x"
  },
  "language_info": {
   "codemirror_mode": {
    "name": "ipython",
    "version": 3
   },
   "file_extension": ".py",
   "mimetype": "text/x-python",
   "name": "python",
   "nbconvert_exporter": "python",
   "pygments_lexer": "ipython3",
   "version": "3.7.7"
  }
 },
 "nbformat": 4,
 "nbformat_minor": 4
}
