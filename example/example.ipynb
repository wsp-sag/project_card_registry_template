{
 "cells": [
  {
   "cell_type": "markdown",
   "metadata": {},
   "source": [
    "# Example"
   ]
  },
  {
   "cell_type": "code",
   "execution_count": 1,
   "metadata": {},
   "outputs": [],
   "source": [
    "import os\n",
    "import sys\n",
    "import inspect\n",
    "import yaml\n",
    "import pandas as pd\n",
    "\n",
    "from network_wrangler import ProjectCard\n",
    "\n",
    "c_dir = os.path.dirname(os.path.abspath(inspect.getfile(inspect.currentframe())))\n",
    "p_dir = os.path.dirname(c_dir)\n",
    "sys.path.insert(0, p_dir)\n",
    "\n",
    "from update_registry import update_registry\n",
    "from methods_io import read_project_cards\n",
    "from methods_add_cards import add_cards_to_registry"
   ]
  },
  {
   "cell_type": "code",
   "execution_count": 2,
   "metadata": {},
   "outputs": [
    {
     "name": "stdout",
     "output_type": "stream",
     "text": [
      "2021-04-12 15:09:57, ERROR: Failed Project Card validation: Validation Error\n",
      "2021-04-12 15:09:57, ERROR: Project Card File Loc:projects/project_B.yml\n",
      "2021-04-12 15:09:57, ERROR: Project Card Schema Loc:/Users/wsp/Documents/GitHub/network_wrangler/network_wrangler/schemas/project_card.json\n",
      "2021-04-12 15:09:57, ERROR: 'facility' is a required property\n",
      "2021-04-12 15:09:57, ERROR: Failed Project Card validation: Validation Error\n",
      "2021-04-12 15:09:57, ERROR: Project Card File Loc:projects/project_A.yml\n",
      "2021-04-12 15:09:57, ERROR: Project Card Schema Loc:/Users/wsp/Documents/GitHub/network_wrangler/network_wrangler/schemas/project_card.json\n",
      "2021-04-12 15:09:57, ERROR: 'facility' is a required property\n"
     ]
    }
   ],
   "source": [
    "update_registry(\n",
    "        config_file=\"registry_config.yml\",\n",
    "        input_reg_file=\"registry.csv\",\n",
    "        output_reg_file=\"updated_registry.csv\",\n",
    "        card_dir=\"projects\",\n",
    "        write_card_updates=False,\n",
    "    )"
   ]
  },
  {
   "cell_type": "code",
   "execution_count": null,
   "metadata": {},
   "outputs": [],
   "source": []
  }
 ],
 "metadata": {
  "kernelspec": {
   "display_name": "lasso_x",
   "language": "python",
   "name": "lasso_x"
  },
  "language_info": {
   "codemirror_mode": {
    "name": "ipython",
    "version": 3
   },
   "file_extension": ".py",
   "mimetype": "text/x-python",
   "name": "python",
   "nbconvert_exporter": "python",
   "pygments_lexer": "ipython3",
   "version": "3.7.7"
  }
 },
 "nbformat": 4,
 "nbformat_minor": 4
}
